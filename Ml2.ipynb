{
  "nbformat": 4,
  "nbformat_minor": 0,
  "metadata": {
    "colab": {
      "provenance": []
    },
    "kernelspec": {
      "name": "python3",
      "display_name": "Python 3"
    },
    "language_info": {
      "name": "python"
    }
  },
  "cells": [
    {
      "cell_type": "markdown",
      "source": [
        "Контрольная работа 2"
      ],
      "metadata": {
        "id": "lqUlgTNRKu9U"
      }
    },
    {
      "cell_type": "code",
      "source": [
        "import pandas as pd\n",
        "import numpy as np\n",
        "from sklearn.svm import SVC\n",
        "from sklearn.linear_model import Perceptron\n",
        "import time\n",
        "from sklearn.datasets import fetch_openml"
      ],
      "metadata": {
        "id": "ICzgdhf5K1UF"
      },
      "execution_count": 1,
      "outputs": []
    },
    {
      "cell_type": "markdown",
      "source": [
        "1. (1 балл) Загрузите предложенный вам датасет с помощью функции `sklearn.datasets.fetch_openml`. Выведите текстовое описание загруженного датасета. Обозначьте целевую переменную за `y`, а остальные данные за `X`.\n"
      ],
      "metadata": {
        "id": "-3usGdKwK6Ul"
      }
    },
    {
      "cell_type": "code",
      "source": [
        "from sklearn.datasets import fetch_openml\n",
        "dataset = fetch_openml('diggle_table_a2', version=1)\n",
        "print(dataset.DESCR)"
      ],
      "metadata": {
        "colab": {
          "base_uri": "https://localhost:8080/"
        },
        "id": "wEmWleSaK-Lg",
        "outputId": "11ac2f9e-ea9e-4652-dd03-498a3c617107"
      },
      "execution_count": 14,
      "outputs": [
        {
          "output_type": "stream",
          "name": "stderr",
          "text": [
            "/usr/local/lib/python3.10/dist-packages/sklearn/datasets/_openml.py:968: FutureWarning: The default value of `parser` will change from `'liac-arff'` to `'auto'` in 1.4. You can set `parser='auto'` to silence this warning. Therefore, an `ImportError` will be raised from 1.4 if the dataset is dense and pandas is not installed. Note that the pandas parser may return different data types. See the Notes Section in fetch_openml's API doc for details.\n",
            "  warn(\n"
          ]
        },
        {
          "output_type": "stream",
          "name": "stdout",
          "text": [
            "**Author**:   \n",
            "**Source**: Unknown - Date unknown  \n",
            "**Please cite**:   \n",
            "\n",
            "DATA-SETS FROM DIGGLE, P.J. (1990). TIME SERIES : A BIOSTATISTICAL\n",
            "INTRODUCTION. Oxford University Press.\n",
            "\n",
            "Table: Table A2 Wool prices\n",
            "\n",
            "\n",
            "Information about the dataset\n",
            "CLASSTYPE: numeric\n",
            "CLASSINDEX: none specific\n",
            "\n",
            "Downloaded from openml.org.\n"
          ]
        }
      ]
    },
    {
      "cell_type": "code",
      "source": [
        "Y = dataset.target\n",
        "X = dataset.data\n",
        "Y"
      ],
      "metadata": {
        "colab": {
          "base_uri": "https://localhost:8080/"
        },
        "id": "SRX7D_WBLSK1",
        "outputId": "b17c29c7-b647-47b3-b73c-4eb0ceed806a"
      },
      "execution_count": 15,
      "outputs": [
        {
          "output_type": "execute_result",
          "data": {
            "text/plain": [
              "0      76\n",
              "1      76\n",
              "2      76\n",
              "3      76\n",
              "4      76\n",
              "       ..\n",
              "305    84\n",
              "306    84\n",
              "307    84\n",
              "308    84\n",
              "309    84\n",
              "Name: col_1, Length: 310, dtype: category\n",
              "Categories (9, object): ['76', '77', '78', '79', ..., '81', '82', '83', '84']"
            ]
          },
          "metadata": {},
          "execution_count": 15
        }
      ]
    },
    {
      "cell_type": "code",
      "source": [
        "X"
      ],
      "metadata": {
        "colab": {
          "base_uri": "https://localhost:8080/",
          "height": 423
        },
        "id": "pwFbGrSdLJ83",
        "outputId": "1da561bb-f8e1-480e-c55d-c8f050a24dfa"
      },
      "execution_count": 16,
      "outputs": [
        {
          "output_type": "execute_result",
          "data": {
            "text/plain": [
              "     col_2  col_3  col_4  col_5   col_6   col_7   col_8   col_9\n",
              "0       33     33  262.0  307.0  1.1718  5.5683  5.7268  0.1585\n",
              "1       34     34  259.0  306.0  1.1815  5.5568  5.7236  0.1668\n",
              "2       35     35  257.0  306.0  1.1907  5.5491  5.7236  0.1745\n",
              "3       36     36  262.0  306.0  1.1679  5.5683  5.7236  0.1553\n",
              "4       37     37  264.0  306.0  1.1591  5.5759  5.7236  0.1477\n",
              "..     ...    ...    ...    ...     ...     ...     ...     ...\n",
              "305     20    436  495.0  786.0  1.5879  6.2046  6.6670  0.4624\n",
              "306     21    437  495.0  786.0  1.5879  6.2046  6.6670  0.4624\n",
              "307     22    438  497.0  786.0  1.5815  6.2086  6.6670  0.4584\n",
              "308     25    441  496.0  786.0  1.5847  6.2066  6.6670  0.4604\n",
              "309     26    442  499.0  786.0  1.5752  6.2126  6.6670  0.4544\n",
              "\n",
              "[310 rows x 8 columns]"
            ],
            "text/html": [
              "\n",
              "  <div id=\"df-36b056d8-d8c8-45ad-a4e2-e7862ed770e2\" class=\"colab-df-container\">\n",
              "    <div>\n",
              "<style scoped>\n",
              "    .dataframe tbody tr th:only-of-type {\n",
              "        vertical-align: middle;\n",
              "    }\n",
              "\n",
              "    .dataframe tbody tr th {\n",
              "        vertical-align: top;\n",
              "    }\n",
              "\n",
              "    .dataframe thead th {\n",
              "        text-align: right;\n",
              "    }\n",
              "</style>\n",
              "<table border=\"1\" class=\"dataframe\">\n",
              "  <thead>\n",
              "    <tr style=\"text-align: right;\">\n",
              "      <th></th>\n",
              "      <th>col_2</th>\n",
              "      <th>col_3</th>\n",
              "      <th>col_4</th>\n",
              "      <th>col_5</th>\n",
              "      <th>col_6</th>\n",
              "      <th>col_7</th>\n",
              "      <th>col_8</th>\n",
              "      <th>col_9</th>\n",
              "    </tr>\n",
              "  </thead>\n",
              "  <tbody>\n",
              "    <tr>\n",
              "      <th>0</th>\n",
              "      <td>33</td>\n",
              "      <td>33</td>\n",
              "      <td>262.0</td>\n",
              "      <td>307.0</td>\n",
              "      <td>1.1718</td>\n",
              "      <td>5.5683</td>\n",
              "      <td>5.7268</td>\n",
              "      <td>0.1585</td>\n",
              "    </tr>\n",
              "    <tr>\n",
              "      <th>1</th>\n",
              "      <td>34</td>\n",
              "      <td>34</td>\n",
              "      <td>259.0</td>\n",
              "      <td>306.0</td>\n",
              "      <td>1.1815</td>\n",
              "      <td>5.5568</td>\n",
              "      <td>5.7236</td>\n",
              "      <td>0.1668</td>\n",
              "    </tr>\n",
              "    <tr>\n",
              "      <th>2</th>\n",
              "      <td>35</td>\n",
              "      <td>35</td>\n",
              "      <td>257.0</td>\n",
              "      <td>306.0</td>\n",
              "      <td>1.1907</td>\n",
              "      <td>5.5491</td>\n",
              "      <td>5.7236</td>\n",
              "      <td>0.1745</td>\n",
              "    </tr>\n",
              "    <tr>\n",
              "      <th>3</th>\n",
              "      <td>36</td>\n",
              "      <td>36</td>\n",
              "      <td>262.0</td>\n",
              "      <td>306.0</td>\n",
              "      <td>1.1679</td>\n",
              "      <td>5.5683</td>\n",
              "      <td>5.7236</td>\n",
              "      <td>0.1553</td>\n",
              "    </tr>\n",
              "    <tr>\n",
              "      <th>4</th>\n",
              "      <td>37</td>\n",
              "      <td>37</td>\n",
              "      <td>264.0</td>\n",
              "      <td>306.0</td>\n",
              "      <td>1.1591</td>\n",
              "      <td>5.5759</td>\n",
              "      <td>5.7236</td>\n",
              "      <td>0.1477</td>\n",
              "    </tr>\n",
              "    <tr>\n",
              "      <th>...</th>\n",
              "      <td>...</td>\n",
              "      <td>...</td>\n",
              "      <td>...</td>\n",
              "      <td>...</td>\n",
              "      <td>...</td>\n",
              "      <td>...</td>\n",
              "      <td>...</td>\n",
              "      <td>...</td>\n",
              "    </tr>\n",
              "    <tr>\n",
              "      <th>305</th>\n",
              "      <td>20</td>\n",
              "      <td>436</td>\n",
              "      <td>495.0</td>\n",
              "      <td>786.0</td>\n",
              "      <td>1.5879</td>\n",
              "      <td>6.2046</td>\n",
              "      <td>6.6670</td>\n",
              "      <td>0.4624</td>\n",
              "    </tr>\n",
              "    <tr>\n",
              "      <th>306</th>\n",
              "      <td>21</td>\n",
              "      <td>437</td>\n",
              "      <td>495.0</td>\n",
              "      <td>786.0</td>\n",
              "      <td>1.5879</td>\n",
              "      <td>6.2046</td>\n",
              "      <td>6.6670</td>\n",
              "      <td>0.4624</td>\n",
              "    </tr>\n",
              "    <tr>\n",
              "      <th>307</th>\n",
              "      <td>22</td>\n",
              "      <td>438</td>\n",
              "      <td>497.0</td>\n",
              "      <td>786.0</td>\n",
              "      <td>1.5815</td>\n",
              "      <td>6.2086</td>\n",
              "      <td>6.6670</td>\n",
              "      <td>0.4584</td>\n",
              "    </tr>\n",
              "    <tr>\n",
              "      <th>308</th>\n",
              "      <td>25</td>\n",
              "      <td>441</td>\n",
              "      <td>496.0</td>\n",
              "      <td>786.0</td>\n",
              "      <td>1.5847</td>\n",
              "      <td>6.2066</td>\n",
              "      <td>6.6670</td>\n",
              "      <td>0.4604</td>\n",
              "    </tr>\n",
              "    <tr>\n",
              "      <th>309</th>\n",
              "      <td>26</td>\n",
              "      <td>442</td>\n",
              "      <td>499.0</td>\n",
              "      <td>786.0</td>\n",
              "      <td>1.5752</td>\n",
              "      <td>6.2126</td>\n",
              "      <td>6.6670</td>\n",
              "      <td>0.4544</td>\n",
              "    </tr>\n",
              "  </tbody>\n",
              "</table>\n",
              "<p>310 rows × 8 columns</p>\n",
              "</div>\n",
              "    <div class=\"colab-df-buttons\">\n",
              "\n",
              "  <div class=\"colab-df-container\">\n",
              "    <button class=\"colab-df-convert\" onclick=\"convertToInteractive('df-36b056d8-d8c8-45ad-a4e2-e7862ed770e2')\"\n",
              "            title=\"Convert this dataframe to an interactive table.\"\n",
              "            style=\"display:none;\">\n",
              "\n",
              "  <svg xmlns=\"http://www.w3.org/2000/svg\" height=\"24px\" viewBox=\"0 -960 960 960\">\n",
              "    <path d=\"M120-120v-720h720v720H120Zm60-500h600v-160H180v160Zm220 220h160v-160H400v160Zm0 220h160v-160H400v160ZM180-400h160v-160H180v160Zm440 0h160v-160H620v160ZM180-180h160v-160H180v160Zm440 0h160v-160H620v160Z\"/>\n",
              "  </svg>\n",
              "    </button>\n",
              "\n",
              "  <style>\n",
              "    .colab-df-container {\n",
              "      display:flex;\n",
              "      gap: 12px;\n",
              "    }\n",
              "\n",
              "    .colab-df-convert {\n",
              "      background-color: #E8F0FE;\n",
              "      border: none;\n",
              "      border-radius: 50%;\n",
              "      cursor: pointer;\n",
              "      display: none;\n",
              "      fill: #1967D2;\n",
              "      height: 32px;\n",
              "      padding: 0 0 0 0;\n",
              "      width: 32px;\n",
              "    }\n",
              "\n",
              "    .colab-df-convert:hover {\n",
              "      background-color: #E2EBFA;\n",
              "      box-shadow: 0px 1px 2px rgba(60, 64, 67, 0.3), 0px 1px 3px 1px rgba(60, 64, 67, 0.15);\n",
              "      fill: #174EA6;\n",
              "    }\n",
              "\n",
              "    .colab-df-buttons div {\n",
              "      margin-bottom: 4px;\n",
              "    }\n",
              "\n",
              "    [theme=dark] .colab-df-convert {\n",
              "      background-color: #3B4455;\n",
              "      fill: #D2E3FC;\n",
              "    }\n",
              "\n",
              "    [theme=dark] .colab-df-convert:hover {\n",
              "      background-color: #434B5C;\n",
              "      box-shadow: 0px 1px 3px 1px rgba(0, 0, 0, 0.15);\n",
              "      filter: drop-shadow(0px 1px 2px rgba(0, 0, 0, 0.3));\n",
              "      fill: #FFFFFF;\n",
              "    }\n",
              "  </style>\n",
              "\n",
              "    <script>\n",
              "      const buttonEl =\n",
              "        document.querySelector('#df-36b056d8-d8c8-45ad-a4e2-e7862ed770e2 button.colab-df-convert');\n",
              "      buttonEl.style.display =\n",
              "        google.colab.kernel.accessAllowed ? 'block' : 'none';\n",
              "\n",
              "      async function convertToInteractive(key) {\n",
              "        const element = document.querySelector('#df-36b056d8-d8c8-45ad-a4e2-e7862ed770e2');\n",
              "        const dataTable =\n",
              "          await google.colab.kernel.invokeFunction('convertToInteractive',\n",
              "                                                    [key], {});\n",
              "        if (!dataTable) return;\n",
              "\n",
              "        const docLinkHtml = 'Like what you see? Visit the ' +\n",
              "          '<a target=\"_blank\" href=https://colab.research.google.com/notebooks/data_table.ipynb>data table notebook</a>'\n",
              "          + ' to learn more about interactive tables.';\n",
              "        element.innerHTML = '';\n",
              "        dataTable['output_type'] = 'display_data';\n",
              "        await google.colab.output.renderOutput(dataTable, element);\n",
              "        const docLink = document.createElement('div');\n",
              "        docLink.innerHTML = docLinkHtml;\n",
              "        element.appendChild(docLink);\n",
              "      }\n",
              "    </script>\n",
              "  </div>\n",
              "\n",
              "\n",
              "<div id=\"df-66aa9505-dbe6-43d5-83ff-f6feef66206a\">\n",
              "  <button class=\"colab-df-quickchart\" onclick=\"quickchart('df-66aa9505-dbe6-43d5-83ff-f6feef66206a')\"\n",
              "            title=\"Suggest charts\"\n",
              "            style=\"display:none;\">\n",
              "\n",
              "<svg xmlns=\"http://www.w3.org/2000/svg\" height=\"24px\"viewBox=\"0 0 24 24\"\n",
              "     width=\"24px\">\n",
              "    <g>\n",
              "        <path d=\"M19 3H5c-1.1 0-2 .9-2 2v14c0 1.1.9 2 2 2h14c1.1 0 2-.9 2-2V5c0-1.1-.9-2-2-2zM9 17H7v-7h2v7zm4 0h-2V7h2v10zm4 0h-2v-4h2v4z\"/>\n",
              "    </g>\n",
              "</svg>\n",
              "  </button>\n",
              "\n",
              "<style>\n",
              "  .colab-df-quickchart {\n",
              "      --bg-color: #E8F0FE;\n",
              "      --fill-color: #1967D2;\n",
              "      --hover-bg-color: #E2EBFA;\n",
              "      --hover-fill-color: #174EA6;\n",
              "      --disabled-fill-color: #AAA;\n",
              "      --disabled-bg-color: #DDD;\n",
              "  }\n",
              "\n",
              "  [theme=dark] .colab-df-quickchart {\n",
              "      --bg-color: #3B4455;\n",
              "      --fill-color: #D2E3FC;\n",
              "      --hover-bg-color: #434B5C;\n",
              "      --hover-fill-color: #FFFFFF;\n",
              "      --disabled-bg-color: #3B4455;\n",
              "      --disabled-fill-color: #666;\n",
              "  }\n",
              "\n",
              "  .colab-df-quickchart {\n",
              "    background-color: var(--bg-color);\n",
              "    border: none;\n",
              "    border-radius: 50%;\n",
              "    cursor: pointer;\n",
              "    display: none;\n",
              "    fill: var(--fill-color);\n",
              "    height: 32px;\n",
              "    padding: 0;\n",
              "    width: 32px;\n",
              "  }\n",
              "\n",
              "  .colab-df-quickchart:hover {\n",
              "    background-color: var(--hover-bg-color);\n",
              "    box-shadow: 0 1px 2px rgba(60, 64, 67, 0.3), 0 1px 3px 1px rgba(60, 64, 67, 0.15);\n",
              "    fill: var(--button-hover-fill-color);\n",
              "  }\n",
              "\n",
              "  .colab-df-quickchart-complete:disabled,\n",
              "  .colab-df-quickchart-complete:disabled:hover {\n",
              "    background-color: var(--disabled-bg-color);\n",
              "    fill: var(--disabled-fill-color);\n",
              "    box-shadow: none;\n",
              "  }\n",
              "\n",
              "  .colab-df-spinner {\n",
              "    border: 2px solid var(--fill-color);\n",
              "    border-color: transparent;\n",
              "    border-bottom-color: var(--fill-color);\n",
              "    animation:\n",
              "      spin 1s steps(1) infinite;\n",
              "  }\n",
              "\n",
              "  @keyframes spin {\n",
              "    0% {\n",
              "      border-color: transparent;\n",
              "      border-bottom-color: var(--fill-color);\n",
              "      border-left-color: var(--fill-color);\n",
              "    }\n",
              "    20% {\n",
              "      border-color: transparent;\n",
              "      border-left-color: var(--fill-color);\n",
              "      border-top-color: var(--fill-color);\n",
              "    }\n",
              "    30% {\n",
              "      border-color: transparent;\n",
              "      border-left-color: var(--fill-color);\n",
              "      border-top-color: var(--fill-color);\n",
              "      border-right-color: var(--fill-color);\n",
              "    }\n",
              "    40% {\n",
              "      border-color: transparent;\n",
              "      border-right-color: var(--fill-color);\n",
              "      border-top-color: var(--fill-color);\n",
              "    }\n",
              "    60% {\n",
              "      border-color: transparent;\n",
              "      border-right-color: var(--fill-color);\n",
              "    }\n",
              "    80% {\n",
              "      border-color: transparent;\n",
              "      border-right-color: var(--fill-color);\n",
              "      border-bottom-color: var(--fill-color);\n",
              "    }\n",
              "    90% {\n",
              "      border-color: transparent;\n",
              "      border-bottom-color: var(--fill-color);\n",
              "    }\n",
              "  }\n",
              "</style>\n",
              "\n",
              "  <script>\n",
              "    async function quickchart(key) {\n",
              "      const quickchartButtonEl =\n",
              "        document.querySelector('#' + key + ' button');\n",
              "      quickchartButtonEl.disabled = true;  // To prevent multiple clicks.\n",
              "      quickchartButtonEl.classList.add('colab-df-spinner');\n",
              "      try {\n",
              "        const charts = await google.colab.kernel.invokeFunction(\n",
              "            'suggestCharts', [key], {});\n",
              "      } catch (error) {\n",
              "        console.error('Error during call to suggestCharts:', error);\n",
              "      }\n",
              "      quickchartButtonEl.classList.remove('colab-df-spinner');\n",
              "      quickchartButtonEl.classList.add('colab-df-quickchart-complete');\n",
              "    }\n",
              "    (() => {\n",
              "      let quickchartButtonEl =\n",
              "        document.querySelector('#df-66aa9505-dbe6-43d5-83ff-f6feef66206a button');\n",
              "      quickchartButtonEl.style.display =\n",
              "        google.colab.kernel.accessAllowed ? 'block' : 'none';\n",
              "    })();\n",
              "  </script>\n",
              "</div>\n",
              "    </div>\n",
              "  </div>\n"
            ],
            "application/vnd.google.colaboratory.intrinsic+json": {
              "type": "dataframe",
              "variable_name": "X",
              "summary": "{\n  \"name\": \"X\",\n  \"rows\": 310,\n  \"fields\": [\n    {\n      \"column\": \"col_2\",\n      \"properties\": {\n        \"dtype\": \"number\",\n        \"std\": 15,\n        \"min\": 2,\n        \"max\": 51,\n        \"num_unique_values\": 47,\n        \"samples\": [\n          11,\n          25,\n          10\n        ],\n        \"semantic_type\": \"\",\n        \"description\": \"\"\n      }\n    },\n    {\n      \"column\": \"col_3\",\n      \"properties\": {\n        \"dtype\": \"number\",\n        \"std\": 120,\n        \"min\": 33,\n        \"max\": 442,\n        \"num_unique_values\": 310,\n        \"samples\": [\n          414,\n          42,\n          101\n        ],\n        \"semantic_type\": \"\",\n        \"description\": \"\"\n      }\n    },\n    {\n      \"column\": \"col_4\",\n      \"properties\": {\n        \"dtype\": \"number\",\n        \"std\": 66.76230646296713,\n        \"min\": 257.0,\n        \"max\": 499.0,\n        \"num_unique_values\": 146,\n        \"samples\": [\n          330.0,\n          423.0,\n          297.0\n        ],\n        \"semantic_type\": \"\",\n        \"description\": \"\"\n      }\n    },\n    {\n      \"column\": \"col_5\",\n      \"properties\": {\n        \"dtype\": \"number\",\n        \"std\": 124.3302666285104,\n        \"min\": 306.0,\n        \"max\": 791.0,\n        \"num_unique_values\": 125,\n        \"samples\": [\n          347.0,\n          519.0,\n          464.0\n        ],\n        \"semantic_type\": \"\",\n        \"description\": \"\"\n      }\n    },\n    {\n      \"column\": \"col_6\",\n      \"properties\": {\n        \"dtype\": \"number\",\n        \"std\": 0.11645031280299616,\n        \"min\": 1.0778,\n        \"max\": 1.6045,\n        \"num_unique_values\": 254,\n        \"samples\": [\n          1.3189,\n          1.1449,\n          1.1731\n        ],\n        \"semantic_type\": \"\",\n        \"description\": \"\"\n      }\n    },\n    {\n      \"column\": \"col_7\",\n      \"properties\": {\n        \"dtype\": \"number\",\n        \"std\": 0.17823320035867338,\n        \"min\": 5.5491,\n        \"max\": 6.2126,\n        \"num_unique_values\": 146,\n        \"samples\": [\n          5.7991,\n          6.0474,\n          5.6937\n        ],\n        \"semantic_type\": \"\",\n        \"description\": \"\"\n      }\n    },\n    {\n      \"column\": \"col_8\",\n      \"properties\": {\n        \"dtype\": \"number\",\n        \"std\": 0.25636035460682116,\n        \"min\": 5.7236,\n        \"max\": 6.6733,\n        \"num_unique_values\": 125,\n        \"samples\": [\n          5.8493,\n          6.2519,\n          6.1399\n        ],\n        \"semantic_type\": \"\",\n        \"description\": \"\"\n      }\n    },\n    {\n      \"column\": \"col_9\",\n      \"properties\": {\n        \"dtype\": \"number\",\n        \"std\": 0.08969096697229612,\n        \"min\": 0.075,\n        \"max\": 0.4728,\n        \"num_unique_values\": 250,\n        \"samples\": [\n          0.2236,\n          0.1448,\n          0.2445\n        ],\n        \"semantic_type\": \"\",\n        \"description\": \"\"\n      }\n    }\n  ]\n}"
            }
          },
          "metadata": {},
          "execution_count": 16
        }
      ]
    },
    {
      "cell_type": "markdown",
      "source": [
        "2. (1 балл) Выведите основную статистическую информацию о данных. Сделайте количественное описание датасета: число строк (объектов), число столбцов (признаков), статистику по признакам, количество классов (значений целевой переменной)."
      ],
      "metadata": {
        "id": "r_TfYd7QLwu1"
      }
    },
    {
      "cell_type": "code",
      "source": [
        "df = pd.DataFrame(dataset.data, columns=dataset.feature_names)\n",
        "df['Target'] = Y\n",
        "df.info()"
      ],
      "metadata": {
        "colab": {
          "base_uri": "https://localhost:8080/"
        },
        "id": "tbhtgRDKLzvk",
        "outputId": "7fc8daf6-512a-4cba-fc15-a618f648759e"
      },
      "execution_count": 17,
      "outputs": [
        {
          "output_type": "stream",
          "name": "stdout",
          "text": [
            "<class 'pandas.core.frame.DataFrame'>\n",
            "RangeIndex: 310 entries, 0 to 309\n",
            "Data columns (total 9 columns):\n",
            " #   Column  Non-Null Count  Dtype   \n",
            "---  ------  --------------  -----   \n",
            " 0   col_2   310 non-null    int64   \n",
            " 1   col_3   310 non-null    int64   \n",
            " 2   col_4   310 non-null    float64 \n",
            " 3   col_5   310 non-null    float64 \n",
            " 4   col_6   310 non-null    float64 \n",
            " 5   col_7   310 non-null    float64 \n",
            " 6   col_8   310 non-null    float64 \n",
            " 7   col_9   310 non-null    float64 \n",
            " 8   Target  310 non-null    category\n",
            "dtypes: category(1), float64(6), int64(2)\n",
            "memory usage: 20.2 KB\n"
          ]
        }
      ]
    },
    {
      "cell_type": "markdown",
      "source": [
        "Выводим основную информацию по датасету, обращаем внимание на то, что"
      ],
      "metadata": {
        "id": "3Rc3VyVKL7IT"
      }
    },
    {
      "cell_type": "code",
      "source": [
        "df.describe()"
      ],
      "metadata": {
        "colab": {
          "base_uri": "https://localhost:8080/",
          "height": 300
        },
        "id": "-UPVeXsxL_HU",
        "outputId": "d3e6c1f5-2ffb-4b9d-bab4-b5a64f55217a"
      },
      "execution_count": 18,
      "outputs": [
        {
          "output_type": "execute_result",
          "data": {
            "text/plain": [
              "            col_2       col_3       col_4       col_5       col_6       col_7  \\\n",
              "count  310.000000  310.000000  310.000000  310.000000  310.000000  310.000000   \n",
              "mean    26.587097  234.922581  387.183871  496.103226    1.265265    5.943422   \n",
              "std     15.335635  120.804559   66.762306  124.330267    0.116450    0.178233   \n",
              "min      2.000000   33.000000  257.000000  306.000000    1.077800    5.549100   \n",
              "25%     12.000000  127.250000  316.000000  357.000000    1.155950    5.755700   \n",
              "50%     25.000000  233.500000  405.000000  524.000000    1.272000    6.003900   \n",
              "75%     41.000000  338.750000  434.500000  576.000000    1.323075    6.074150   \n",
              "max     51.000000  442.000000  499.000000  791.000000    1.604500    6.212600   \n",
              "\n",
              "           col_8       col_9  \n",
              "count  310.00000  310.000000  \n",
              "mean     6.17463    0.231207  \n",
              "std      0.25636    0.089691  \n",
              "min      5.72360    0.075000  \n",
              "25%      5.87770    0.144925  \n",
              "50%      6.26150    0.240550  \n",
              "75%      6.35610    0.280025  \n",
              "max      6.67330    0.472800  "
            ],
            "text/html": [
              "\n",
              "  <div id=\"df-156690ef-5dca-4d84-8d31-69f684d79525\" class=\"colab-df-container\">\n",
              "    <div>\n",
              "<style scoped>\n",
              "    .dataframe tbody tr th:only-of-type {\n",
              "        vertical-align: middle;\n",
              "    }\n",
              "\n",
              "    .dataframe tbody tr th {\n",
              "        vertical-align: top;\n",
              "    }\n",
              "\n",
              "    .dataframe thead th {\n",
              "        text-align: right;\n",
              "    }\n",
              "</style>\n",
              "<table border=\"1\" class=\"dataframe\">\n",
              "  <thead>\n",
              "    <tr style=\"text-align: right;\">\n",
              "      <th></th>\n",
              "      <th>col_2</th>\n",
              "      <th>col_3</th>\n",
              "      <th>col_4</th>\n",
              "      <th>col_5</th>\n",
              "      <th>col_6</th>\n",
              "      <th>col_7</th>\n",
              "      <th>col_8</th>\n",
              "      <th>col_9</th>\n",
              "    </tr>\n",
              "  </thead>\n",
              "  <tbody>\n",
              "    <tr>\n",
              "      <th>count</th>\n",
              "      <td>310.000000</td>\n",
              "      <td>310.000000</td>\n",
              "      <td>310.000000</td>\n",
              "      <td>310.000000</td>\n",
              "      <td>310.000000</td>\n",
              "      <td>310.000000</td>\n",
              "      <td>310.00000</td>\n",
              "      <td>310.000000</td>\n",
              "    </tr>\n",
              "    <tr>\n",
              "      <th>mean</th>\n",
              "      <td>26.587097</td>\n",
              "      <td>234.922581</td>\n",
              "      <td>387.183871</td>\n",
              "      <td>496.103226</td>\n",
              "      <td>1.265265</td>\n",
              "      <td>5.943422</td>\n",
              "      <td>6.17463</td>\n",
              "      <td>0.231207</td>\n",
              "    </tr>\n",
              "    <tr>\n",
              "      <th>std</th>\n",
              "      <td>15.335635</td>\n",
              "      <td>120.804559</td>\n",
              "      <td>66.762306</td>\n",
              "      <td>124.330267</td>\n",
              "      <td>0.116450</td>\n",
              "      <td>0.178233</td>\n",
              "      <td>0.25636</td>\n",
              "      <td>0.089691</td>\n",
              "    </tr>\n",
              "    <tr>\n",
              "      <th>min</th>\n",
              "      <td>2.000000</td>\n",
              "      <td>33.000000</td>\n",
              "      <td>257.000000</td>\n",
              "      <td>306.000000</td>\n",
              "      <td>1.077800</td>\n",
              "      <td>5.549100</td>\n",
              "      <td>5.72360</td>\n",
              "      <td>0.075000</td>\n",
              "    </tr>\n",
              "    <tr>\n",
              "      <th>25%</th>\n",
              "      <td>12.000000</td>\n",
              "      <td>127.250000</td>\n",
              "      <td>316.000000</td>\n",
              "      <td>357.000000</td>\n",
              "      <td>1.155950</td>\n",
              "      <td>5.755700</td>\n",
              "      <td>5.87770</td>\n",
              "      <td>0.144925</td>\n",
              "    </tr>\n",
              "    <tr>\n",
              "      <th>50%</th>\n",
              "      <td>25.000000</td>\n",
              "      <td>233.500000</td>\n",
              "      <td>405.000000</td>\n",
              "      <td>524.000000</td>\n",
              "      <td>1.272000</td>\n",
              "      <td>6.003900</td>\n",
              "      <td>6.26150</td>\n",
              "      <td>0.240550</td>\n",
              "    </tr>\n",
              "    <tr>\n",
              "      <th>75%</th>\n",
              "      <td>41.000000</td>\n",
              "      <td>338.750000</td>\n",
              "      <td>434.500000</td>\n",
              "      <td>576.000000</td>\n",
              "      <td>1.323075</td>\n",
              "      <td>6.074150</td>\n",
              "      <td>6.35610</td>\n",
              "      <td>0.280025</td>\n",
              "    </tr>\n",
              "    <tr>\n",
              "      <th>max</th>\n",
              "      <td>51.000000</td>\n",
              "      <td>442.000000</td>\n",
              "      <td>499.000000</td>\n",
              "      <td>791.000000</td>\n",
              "      <td>1.604500</td>\n",
              "      <td>6.212600</td>\n",
              "      <td>6.67330</td>\n",
              "      <td>0.472800</td>\n",
              "    </tr>\n",
              "  </tbody>\n",
              "</table>\n",
              "</div>\n",
              "    <div class=\"colab-df-buttons\">\n",
              "\n",
              "  <div class=\"colab-df-container\">\n",
              "    <button class=\"colab-df-convert\" onclick=\"convertToInteractive('df-156690ef-5dca-4d84-8d31-69f684d79525')\"\n",
              "            title=\"Convert this dataframe to an interactive table.\"\n",
              "            style=\"display:none;\">\n",
              "\n",
              "  <svg xmlns=\"http://www.w3.org/2000/svg\" height=\"24px\" viewBox=\"0 -960 960 960\">\n",
              "    <path d=\"M120-120v-720h720v720H120Zm60-500h600v-160H180v160Zm220 220h160v-160H400v160Zm0 220h160v-160H400v160ZM180-400h160v-160H180v160Zm440 0h160v-160H620v160ZM180-180h160v-160H180v160Zm440 0h160v-160H620v160Z\"/>\n",
              "  </svg>\n",
              "    </button>\n",
              "\n",
              "  <style>\n",
              "    .colab-df-container {\n",
              "      display:flex;\n",
              "      gap: 12px;\n",
              "    }\n",
              "\n",
              "    .colab-df-convert {\n",
              "      background-color: #E8F0FE;\n",
              "      border: none;\n",
              "      border-radius: 50%;\n",
              "      cursor: pointer;\n",
              "      display: none;\n",
              "      fill: #1967D2;\n",
              "      height: 32px;\n",
              "      padding: 0 0 0 0;\n",
              "      width: 32px;\n",
              "    }\n",
              "\n",
              "    .colab-df-convert:hover {\n",
              "      background-color: #E2EBFA;\n",
              "      box-shadow: 0px 1px 2px rgba(60, 64, 67, 0.3), 0px 1px 3px 1px rgba(60, 64, 67, 0.15);\n",
              "      fill: #174EA6;\n",
              "    }\n",
              "\n",
              "    .colab-df-buttons div {\n",
              "      margin-bottom: 4px;\n",
              "    }\n",
              "\n",
              "    [theme=dark] .colab-df-convert {\n",
              "      background-color: #3B4455;\n",
              "      fill: #D2E3FC;\n",
              "    }\n",
              "\n",
              "    [theme=dark] .colab-df-convert:hover {\n",
              "      background-color: #434B5C;\n",
              "      box-shadow: 0px 1px 3px 1px rgba(0, 0, 0, 0.15);\n",
              "      filter: drop-shadow(0px 1px 2px rgba(0, 0, 0, 0.3));\n",
              "      fill: #FFFFFF;\n",
              "    }\n",
              "  </style>\n",
              "\n",
              "    <script>\n",
              "      const buttonEl =\n",
              "        document.querySelector('#df-156690ef-5dca-4d84-8d31-69f684d79525 button.colab-df-convert');\n",
              "      buttonEl.style.display =\n",
              "        google.colab.kernel.accessAllowed ? 'block' : 'none';\n",
              "\n",
              "      async function convertToInteractive(key) {\n",
              "        const element = document.querySelector('#df-156690ef-5dca-4d84-8d31-69f684d79525');\n",
              "        const dataTable =\n",
              "          await google.colab.kernel.invokeFunction('convertToInteractive',\n",
              "                                                    [key], {});\n",
              "        if (!dataTable) return;\n",
              "\n",
              "        const docLinkHtml = 'Like what you see? Visit the ' +\n",
              "          '<a target=\"_blank\" href=https://colab.research.google.com/notebooks/data_table.ipynb>data table notebook</a>'\n",
              "          + ' to learn more about interactive tables.';\n",
              "        element.innerHTML = '';\n",
              "        dataTable['output_type'] = 'display_data';\n",
              "        await google.colab.output.renderOutput(dataTable, element);\n",
              "        const docLink = document.createElement('div');\n",
              "        docLink.innerHTML = docLinkHtml;\n",
              "        element.appendChild(docLink);\n",
              "      }\n",
              "    </script>\n",
              "  </div>\n",
              "\n",
              "\n",
              "<div id=\"df-4c184faa-adce-46a8-a843-35f78f8852c6\">\n",
              "  <button class=\"colab-df-quickchart\" onclick=\"quickchart('df-4c184faa-adce-46a8-a843-35f78f8852c6')\"\n",
              "            title=\"Suggest charts\"\n",
              "            style=\"display:none;\">\n",
              "\n",
              "<svg xmlns=\"http://www.w3.org/2000/svg\" height=\"24px\"viewBox=\"0 0 24 24\"\n",
              "     width=\"24px\">\n",
              "    <g>\n",
              "        <path d=\"M19 3H5c-1.1 0-2 .9-2 2v14c0 1.1.9 2 2 2h14c1.1 0 2-.9 2-2V5c0-1.1-.9-2-2-2zM9 17H7v-7h2v7zm4 0h-2V7h2v10zm4 0h-2v-4h2v4z\"/>\n",
              "    </g>\n",
              "</svg>\n",
              "  </button>\n",
              "\n",
              "<style>\n",
              "  .colab-df-quickchart {\n",
              "      --bg-color: #E8F0FE;\n",
              "      --fill-color: #1967D2;\n",
              "      --hover-bg-color: #E2EBFA;\n",
              "      --hover-fill-color: #174EA6;\n",
              "      --disabled-fill-color: #AAA;\n",
              "      --disabled-bg-color: #DDD;\n",
              "  }\n",
              "\n",
              "  [theme=dark] .colab-df-quickchart {\n",
              "      --bg-color: #3B4455;\n",
              "      --fill-color: #D2E3FC;\n",
              "      --hover-bg-color: #434B5C;\n",
              "      --hover-fill-color: #FFFFFF;\n",
              "      --disabled-bg-color: #3B4455;\n",
              "      --disabled-fill-color: #666;\n",
              "  }\n",
              "\n",
              "  .colab-df-quickchart {\n",
              "    background-color: var(--bg-color);\n",
              "    border: none;\n",
              "    border-radius: 50%;\n",
              "    cursor: pointer;\n",
              "    display: none;\n",
              "    fill: var(--fill-color);\n",
              "    height: 32px;\n",
              "    padding: 0;\n",
              "    width: 32px;\n",
              "  }\n",
              "\n",
              "  .colab-df-quickchart:hover {\n",
              "    background-color: var(--hover-bg-color);\n",
              "    box-shadow: 0 1px 2px rgba(60, 64, 67, 0.3), 0 1px 3px 1px rgba(60, 64, 67, 0.15);\n",
              "    fill: var(--button-hover-fill-color);\n",
              "  }\n",
              "\n",
              "  .colab-df-quickchart-complete:disabled,\n",
              "  .colab-df-quickchart-complete:disabled:hover {\n",
              "    background-color: var(--disabled-bg-color);\n",
              "    fill: var(--disabled-fill-color);\n",
              "    box-shadow: none;\n",
              "  }\n",
              "\n",
              "  .colab-df-spinner {\n",
              "    border: 2px solid var(--fill-color);\n",
              "    border-color: transparent;\n",
              "    border-bottom-color: var(--fill-color);\n",
              "    animation:\n",
              "      spin 1s steps(1) infinite;\n",
              "  }\n",
              "\n",
              "  @keyframes spin {\n",
              "    0% {\n",
              "      border-color: transparent;\n",
              "      border-bottom-color: var(--fill-color);\n",
              "      border-left-color: var(--fill-color);\n",
              "    }\n",
              "    20% {\n",
              "      border-color: transparent;\n",
              "      border-left-color: var(--fill-color);\n",
              "      border-top-color: var(--fill-color);\n",
              "    }\n",
              "    30% {\n",
              "      border-color: transparent;\n",
              "      border-left-color: var(--fill-color);\n",
              "      border-top-color: var(--fill-color);\n",
              "      border-right-color: var(--fill-color);\n",
              "    }\n",
              "    40% {\n",
              "      border-color: transparent;\n",
              "      border-right-color: var(--fill-color);\n",
              "      border-top-color: var(--fill-color);\n",
              "    }\n",
              "    60% {\n",
              "      border-color: transparent;\n",
              "      border-right-color: var(--fill-color);\n",
              "    }\n",
              "    80% {\n",
              "      border-color: transparent;\n",
              "      border-right-color: var(--fill-color);\n",
              "      border-bottom-color: var(--fill-color);\n",
              "    }\n",
              "    90% {\n",
              "      border-color: transparent;\n",
              "      border-bottom-color: var(--fill-color);\n",
              "    }\n",
              "  }\n",
              "</style>\n",
              "\n",
              "  <script>\n",
              "    async function quickchart(key) {\n",
              "      const quickchartButtonEl =\n",
              "        document.querySelector('#' + key + ' button');\n",
              "      quickchartButtonEl.disabled = true;  // To prevent multiple clicks.\n",
              "      quickchartButtonEl.classList.add('colab-df-spinner');\n",
              "      try {\n",
              "        const charts = await google.colab.kernel.invokeFunction(\n",
              "            'suggestCharts', [key], {});\n",
              "      } catch (error) {\n",
              "        console.error('Error during call to suggestCharts:', error);\n",
              "      }\n",
              "      quickchartButtonEl.classList.remove('colab-df-spinner');\n",
              "      quickchartButtonEl.classList.add('colab-df-quickchart-complete');\n",
              "    }\n",
              "    (() => {\n",
              "      let quickchartButtonEl =\n",
              "        document.querySelector('#df-4c184faa-adce-46a8-a843-35f78f8852c6 button');\n",
              "      quickchartButtonEl.style.display =\n",
              "        google.colab.kernel.accessAllowed ? 'block' : 'none';\n",
              "    })();\n",
              "  </script>\n",
              "</div>\n",
              "    </div>\n",
              "  </div>\n"
            ],
            "application/vnd.google.colaboratory.intrinsic+json": {
              "type": "dataframe",
              "summary": "{\n  \"name\": \"df\",\n  \"rows\": 8,\n  \"fields\": [\n    {\n      \"column\": \"col_2\",\n      \"properties\": {\n        \"dtype\": \"number\",\n        \"std\": 102.08208166601763,\n        \"min\": 2.0,\n        \"max\": 310.0,\n        \"num_unique_values\": 8,\n        \"samples\": [\n          26.587096774193547,\n          25.0,\n          310.0\n        ],\n        \"semantic_type\": \"\",\n        \"description\": \"\"\n      }\n    },\n    {\n      \"column\": \"col_3\",\n      \"properties\": {\n        \"dtype\": \"number\",\n        \"std\": 133.3616161366002,\n        \"min\": 33.0,\n        \"max\": 442.0,\n        \"num_unique_values\": 8,\n        \"samples\": [\n          234.9225806451613,\n          233.5,\n          310.0\n        ],\n        \"semantic_type\": \"\",\n        \"description\": \"\"\n      }\n    },\n    {\n      \"column\": \"col_4\",\n      \"properties\": {\n        \"dtype\": \"number\",\n        \"std\": 132.7932197391042,\n        \"min\": 66.76230646296713,\n        \"max\": 499.0,\n        \"num_unique_values\": 8,\n        \"samples\": [\n          387.18387096774194,\n          405.0,\n          310.0\n        ],\n        \"semantic_type\": \"\",\n        \"description\": \"\"\n      }\n    },\n    {\n      \"column\": \"col_5\",\n      \"properties\": {\n        \"dtype\": \"number\",\n        \"std\": 204.6372506430308,\n        \"min\": 124.3302666285104,\n        \"max\": 791.0,\n        \"num_unique_values\": 8,\n        \"samples\": [\n          496.10322580645163,\n          524.0,\n          310.0\n        ],\n        \"semantic_type\": \"\",\n        \"description\": \"\"\n      }\n    },\n    {\n      \"column\": \"col_6\",\n      \"properties\": {\n        \"dtype\": \"number\",\n        \"std\": 109.20770202273685,\n        \"min\": 0.11645031280299616,\n        \"max\": 310.0,\n        \"num_unique_values\": 8,\n        \"samples\": [\n          1.2652651612903225,\n          1.272,\n          310.0\n        ],\n        \"semantic_type\": \"\",\n        \"description\": \"\"\n      }\n    },\n    {\n      \"column\": \"col_7\",\n      \"properties\": {\n        \"dtype\": \"number\",\n        \"std\": 107.81649457354118,\n        \"min\": 0.17823320035867338,\n        \"max\": 310.0,\n        \"num_unique_values\": 8,\n        \"samples\": [\n          5.943422258064516,\n          6.0039,\n          310.0\n        ],\n        \"semantic_type\": \"\",\n        \"description\": \"\"\n      }\n    },\n    {\n      \"column\": \"col_8\",\n      \"properties\": {\n        \"dtype\": \"number\",\n        \"std\": 107.7367580574667,\n        \"min\": 0.25636035460682116,\n        \"max\": 310.0,\n        \"num_unique_values\": 8,\n        \"samples\": [\n          6.174629677419356,\n          6.2615,\n          310.0\n        ],\n        \"semantic_type\": \"\",\n        \"description\": \"\"\n      }\n    },\n    {\n      \"column\": \"col_9\",\n      \"properties\": {\n        \"dtype\": \"number\",\n        \"std\": 109.52413520851572,\n        \"min\": 0.075,\n        \"max\": 310.0,\n        \"num_unique_values\": 8,\n        \"samples\": [\n          0.23120741935483868,\n          0.24054999999999999,\n          310.0\n        ],\n        \"semantic_type\": \"\",\n        \"description\": \"\"\n      }\n    }\n  ]\n}"
            }
          },
          "metadata": {},
          "execution_count": 18
        }
      ]
    },
    {
      "cell_type": "markdown",
      "source": [
        "Выводим статистику по признакам"
      ],
      "metadata": {
        "id": "ERKSV6_GMDp8"
      }
    },
    {
      "cell_type": "code",
      "source": [
        "Y.value_counts()"
      ],
      "metadata": {
        "colab": {
          "base_uri": "https://localhost:8080/"
        },
        "id": "MVokpDNyMG7V",
        "outputId": "dee9a965-006b-453d-b3cc-9a3b59c7c355"
      },
      "execution_count": 19,
      "outputs": [
        {
          "output_type": "execute_result",
          "data": {
            "text/plain": [
              "col_1\n",
              "77    41\n",
              "79    40\n",
              "82    40\n",
              "78    39\n",
              "83    39\n",
              "81    38\n",
              "80    35\n",
              "84    20\n",
              "76    18\n",
              "Name: count, dtype: int64"
            ]
          },
          "metadata": {},
          "execution_count": 19
        }
      ]
    },
    {
      "cell_type": "markdown",
      "source": [
        "Выводим количество уникальных значений (классов) целевой переменной"
      ],
      "metadata": {
        "id": "K-asI4rlMMA4"
      }
    },
    {
      "cell_type": "markdown",
      "source": [
        "3. (1 балл) Убедитесь, что данные пригодны для моделирования. В данных не должно быть пропущенных значений, ве признаки должны быть численными. Если эти условия нарушаются, исправьте это.\n"
      ],
      "metadata": {
        "id": "Kr4hch_WMO6h"
      }
    },
    {
      "cell_type": "code",
      "source": [
        "df.info()"
      ],
      "metadata": {
        "colab": {
          "base_uri": "https://localhost:8080/"
        },
        "id": "e_IieqrfMR0-",
        "outputId": "fce30d94-d282-474d-afd6-cd02e96003f4"
      },
      "execution_count": 20,
      "outputs": [
        {
          "output_type": "stream",
          "name": "stdout",
          "text": [
            "<class 'pandas.core.frame.DataFrame'>\n",
            "RangeIndex: 310 entries, 0 to 309\n",
            "Data columns (total 9 columns):\n",
            " #   Column  Non-Null Count  Dtype   \n",
            "---  ------  --------------  -----   \n",
            " 0   col_2   310 non-null    int64   \n",
            " 1   col_3   310 non-null    int64   \n",
            " 2   col_4   310 non-null    float64 \n",
            " 3   col_5   310 non-null    float64 \n",
            " 4   col_6   310 non-null    float64 \n",
            " 5   col_7   310 non-null    float64 \n",
            " 6   col_8   310 non-null    float64 \n",
            " 7   col_9   310 non-null    float64 \n",
            " 8   Target  310 non-null    category\n",
            "dtypes: category(1), float64(6), int64(2)\n",
            "memory usage: 20.2 KB\n"
          ]
        }
      ]
    },
    {
      "cell_type": "markdown",
      "source": [
        "В столбцах отсутствуют нулевые значения, все признаки имеют численный тип"
      ],
      "metadata": {
        "id": "HCOOPcJnMa-_"
      }
    },
    {
      "cell_type": "markdown",
      "source": [
        "4. (2 балла) Обучите модель логистической регрессии на рассматриваемых данных из библиотеки `sklearn`. Рассчитайте метрики accuracy и выведите таблицу классификации.\n"
      ],
      "metadata": {
        "id": "mA9Ur67LNBGI"
      }
    },
    {
      "cell_type": "code",
      "source": [
        "from sklearn.preprocessing import StandardScaler\n",
        "from sklearn.linear_model import LogisticRegression\n",
        "from sklearn.model_selection import train_test_split\n",
        "from sklearn.metrics import accuracy_score, classification_report, confusion_matrix"
      ],
      "metadata": {
        "id": "fpxRlzhZNHNR"
      },
      "execution_count": 21,
      "outputs": []
    },
    {
      "cell_type": "code",
      "source": [
        "#Разделяем на тестовую и контрольную выборку\n",
        "X_train, X_test, Y_train, Y_test = train_test_split(X, Y, test_size=0.3, random_state=1)\n"
      ],
      "metadata": {
        "id": "EyYgkD8BNLGF"
      },
      "execution_count": 23,
      "outputs": []
    },
    {
      "cell_type": "code",
      "source": [
        "#Обучаем модель\n",
        "model_log = LogisticRegression()\n",
        "model_log.fit(X_train, Y_train)\n",
        "Y_pred = model_log.predict(X_test)"
      ],
      "metadata": {
        "colab": {
          "base_uri": "https://localhost:8080/"
        },
        "id": "U2D1Sl1MNNqY",
        "outputId": "941ce7f3-0bf7-4e26-d118-c4c8093a1bed"
      },
      "execution_count": 24,
      "outputs": [
        {
          "output_type": "stream",
          "name": "stderr",
          "text": [
            "/usr/local/lib/python3.10/dist-packages/sklearn/linear_model/_logistic.py:458: ConvergenceWarning: lbfgs failed to converge (status=1):\n",
            "STOP: TOTAL NO. of ITERATIONS REACHED LIMIT.\n",
            "\n",
            "Increase the number of iterations (max_iter) or scale the data as shown in:\n",
            "    https://scikit-learn.org/stable/modules/preprocessing.html\n",
            "Please also refer to the documentation for alternative solver options:\n",
            "    https://scikit-learn.org/stable/modules/linear_model.html#logistic-regression\n",
            "  n_iter_i = _check_optimize_result(\n"
          ]
        }
      ]
    },
    {
      "cell_type": "code",
      "source": [
        "print('accuracy = ', round(accuracy_score(Y_test, Y_pred), 4))"
      ],
      "metadata": {
        "colab": {
          "base_uri": "https://localhost:8080/"
        },
        "id": "l6HqiYYFNm6Z",
        "outputId": "9e0b68f0-b85f-4eb7-c5f9-8d00f6dd9db3"
      },
      "execution_count": 25,
      "outputs": [
        {
          "output_type": "stream",
          "name": "stdout",
          "text": [
            "accuracy =  0.9677\n"
          ]
        }
      ]
    },
    {
      "cell_type": "code",
      "source": [
        "confusion_matrix(Y_test, Y_pred)"
      ],
      "metadata": {
        "colab": {
          "base_uri": "https://localhost:8080/"
        },
        "id": "ihTymksfNprA",
        "outputId": "3138f6f9-e185-4139-c2c0-d7205f74e8a0"
      },
      "execution_count": 26,
      "outputs": [
        {
          "output_type": "execute_result",
          "data": {
            "text/plain": [
              "array([[ 8,  0,  0,  0,  0,  0,  0,  0,  0],\n",
              "       [ 0,  8,  0,  0,  0,  0,  0,  0,  0],\n",
              "       [ 0,  0, 12,  0,  0,  0,  0,  0,  0],\n",
              "       [ 0,  0,  0, 12,  0,  0,  0,  0,  0],\n",
              "       [ 0,  0,  0,  0, 11,  1,  0,  0,  0],\n",
              "       [ 0,  0,  0,  0,  1, 13,  0,  0,  0],\n",
              "       [ 0,  0,  0,  0,  0,  0, 11,  0,  0],\n",
              "       [ 0,  0,  0,  0,  0,  0,  0,  6,  0],\n",
              "       [ 0,  0,  0,  0,  0,  0,  0,  1,  9]])"
            ]
          },
          "metadata": {},
          "execution_count": 26
        }
      ]
    },
    {
      "cell_type": "markdown",
      "source": [
        "5. (2 балла) Обучите полиномиальную модель классификации. Рассчитайте метрики accuracy и выведите таблицу классификации. Попробуйте разные степени полинома и выберите ту, которая работает лучше.\n"
      ],
      "metadata": {
        "id": "DLwjeDolNsc4"
      }
    },
    {
      "cell_type": "code",
      "source": [
        "from sklearn.preprocessing import PolynomialFeatures"
      ],
      "metadata": {
        "id": "Wo66dif6NuuM"
      },
      "execution_count": 27,
      "outputs": []
    },
    {
      "cell_type": "code",
      "source": [
        "powers = np.arange(2,11, 2)\n",
        "for power in powers:\n",
        "    model = PolynomialFeatures(power)\n",
        "    X_train_model = model.fit_transform(X_train)\n",
        "    X_test_model = model.transform(X_test)\n",
        "\n",
        "    scaler = StandardScaler()\n",
        "    X_train_model_scaled = scaler.fit_transform(X_train_model)\n",
        "    X_test_model_scaled = scaler.transform(X_test_model)\n",
        "\n",
        "    model_log = LogisticRegression(max_iter=25000)\n",
        "    model_log.fit(X_train_model_scaled, Y_train)\n",
        "\n",
        "    Y_pred = pd.Series(model_log.predict(X_test_model))\n",
        "\n",
        "    print(f'Степень: {int(power)} | accuracy_score: {int(accuracy_score(Y_test, Y_pred))} | confusion_matrix:\\n')\n",
        "    print(confusion_matrix(Y_test, Y_pred), end='\\n'*2+'-'*75+'\\n')"
      ],
      "metadata": {
        "colab": {
          "base_uri": "https://localhost:8080/"
        },
        "id": "TqOTiQrURhku",
        "outputId": "d23be3e4-457c-43bf-91c3-09a3dca9b18b"
      },
      "execution_count": 31,
      "outputs": [
        {
          "output_type": "stream",
          "name": "stdout",
          "text": [
            "Степень: 2 | accuracy_score: 0 | confusion_matrix:\n",
            "\n",
            "[[ 0  0  0  0  0  0  0  0  8]\n",
            " [ 0  0  0  0  0  0  0  3  5]\n",
            " [ 0  0  0  0  0  0  0 11  1]\n",
            " [ 0  0  0  0  0  0  0 12  0]\n",
            " [ 0  0  0  0  0  0  0 12  0]\n",
            " [ 0  0  0  0  0  0  0 14  0]\n",
            " [ 0  0  0  0  0  0  0 11  0]\n",
            " [ 0  0  0  0  0  0  0  6  0]\n",
            " [ 0  0  0  0  0  0  0 10  0]]\n",
            "\n",
            "---------------------------------------------------------------------------\n",
            "Степень: 4 | accuracy_score: 0 | confusion_matrix:\n",
            "\n",
            "[[ 0  0  0  0  0  0  0  0  8]\n",
            " [ 0  0  0  0  0  0  0  0  8]\n",
            " [ 0  0  0  0  0  0  0  0 12]\n",
            " [ 0  0  0  0  0  0  0  0 12]\n",
            " [ 0  0  0  0  0  0  0  0 12]\n",
            " [ 0  0  0  0  0  0  0  0 14]\n",
            " [ 0  0  0  0  0  0  0  0 11]\n",
            " [ 0  0  0  0  0  0  0  0  6]\n",
            " [ 0  0  0  0  0  0  0  0 10]]\n",
            "\n",
            "---------------------------------------------------------------------------\n",
            "Степень: 6 | accuracy_score: 0 | confusion_matrix:\n",
            "\n",
            "[[ 0  0  0  0  0  0  0  0  8]\n",
            " [ 0  0  0  0  0  0  0  0  8]\n",
            " [ 0  0  0  0  0  0  0  0 12]\n",
            " [ 0  0  0  0  0  0  0  0 12]\n",
            " [ 0  0  0  0  0  0  0  0 12]\n",
            " [ 0  0  0  0  0  0  0  0 14]\n",
            " [ 0  0  0  0  0  0  0  0 11]\n",
            " [ 0  0  0  0  0  0  0  0  6]\n",
            " [ 0  0  0  0  0  0  0  0 10]]\n",
            "\n",
            "---------------------------------------------------------------------------\n",
            "Степень: 8 | accuracy_score: 0 | confusion_matrix:\n",
            "\n",
            "[[ 0  0  0  0  0  0  0  0  8]\n",
            " [ 0  0  0  0  0  0  0  0  8]\n",
            " [ 0  0  0  0  0  0  0  0 12]\n",
            " [ 0  0  0  0  0  0  0  0 12]\n",
            " [ 0  0  0  0  0  0  0  0 12]\n",
            " [ 0  0  0  0  0  0  0  0 14]\n",
            " [ 0  0  0  0  0  0  0  0 11]\n",
            " [ 0  0  0  0  0  0  0  0  6]\n",
            " [ 0  0  0  0  0  0  0  0 10]]\n",
            "\n",
            "---------------------------------------------------------------------------\n",
            "Степень: 10 | accuracy_score: 0 | confusion_matrix:\n",
            "\n",
            "[[ 0  0  0  0  0  0  0  0  8]\n",
            " [ 0  0  0  0  0  0  0  0  8]\n",
            " [ 0  0  0  0  0  0  0  0 12]\n",
            " [ 0  0  0  0  0  0  0  0 12]\n",
            " [ 0  0  0  0  0  0  0  0 12]\n",
            " [ 0  0  0  0  0  0  0  0 14]\n",
            " [ 0  0  0  0  0  0  0  0 11]\n",
            " [ 0  0  0  0  0  0  0  0  6]\n",
            " [ 0  0  0  0  0  0  0  0 10]]\n",
            "\n",
            "---------------------------------------------------------------------------\n"
          ]
        }
      ]
    },
    {
      "cell_type": "markdown",
      "source": [
        "6. (2 балла) Обучите модель классификации по методу опорных векторов. Рассчитайте метрики accuracy и выведите таблицу классификации. Попробуйте разные ядерные функции и выберите ту, которая работает лучше.\n"
      ],
      "metadata": {
        "id": "7DOgSp_6Xnkf"
      }
    },
    {
      "cell_type": "code",
      "source": [
        "from sklearn.svm import SVC"
      ],
      "metadata": {
        "id": "h-gdBAw0Xti-"
      },
      "execution_count": 32,
      "outputs": []
    },
    {
      "cell_type": "code",
      "source": [
        "kernels = ['linear', 'poly', 'sigmoid']"
      ],
      "metadata": {
        "id": "8F0Z5wu4Xwq3"
      },
      "execution_count": 33,
      "outputs": []
    },
    {
      "cell_type": "code",
      "source": [
        "for kernel in kernels:\n",
        "    model_svm = SVC(kernel=kernel)\n",
        "\n",
        "    model_svm.fit(X_train, Y_train)\n",
        "    Y_pred = pd.Series(model_svm.predict(X_test))\n",
        "\n",
        "    accuracy = accuracy_score(Y_test, Y_pred)\n",
        "\n",
        "    print(f'Ядро: {kernel}, accuracy_score: {accuracy:.4f}\\n')\n",
        "    print(confusion_matrix(Y_test, Y_pred), end='\\n'*2+'-'*75+'\\n')"
      ],
      "metadata": {
        "colab": {
          "base_uri": "https://localhost:8080/"
        },
        "id": "JjL8oqxjX1TF",
        "outputId": "bb9b6895-468f-49cb-9d0e-e5576d76c23f"
      },
      "execution_count": 34,
      "outputs": [
        {
          "output_type": "stream",
          "name": "stdout",
          "text": [
            "Ядро: linear, accuracy_score: 1.0000\n",
            "\n",
            "[[ 8  0  0  0  0  0  0  0  0]\n",
            " [ 0  8  0  0  0  0  0  0  0]\n",
            " [ 0  0 12  0  0  0  0  0  0]\n",
            " [ 0  0  0 12  0  0  0  0  0]\n",
            " [ 0  0  0  0 12  0  0  0  0]\n",
            " [ 0  0  0  0  0 14  0  0  0]\n",
            " [ 0  0  0  0  0  0 11  0  0]\n",
            " [ 0  0  0  0  0  0  0  6  0]\n",
            " [ 0  0  0  0  0  0  0  0 10]]\n",
            "\n",
            "---------------------------------------------------------------------------\n",
            "Ядро: poly, accuracy_score: 0.6882\n",
            "\n",
            "[[ 0  8  0  0  0  0  0  0  0]\n",
            " [ 0  8  0  0  0  0  0  0  0]\n",
            " [ 0 12  0  0  0  0  0  0  0]\n",
            " [ 0  2  0 10  0  0  0  0  0]\n",
            " [ 0  0  0  2 10  0  0  0  0]\n",
            " [ 0  0  0  0  0 14  0  0  0]\n",
            " [ 0  0  0  0  0  2  9  0  0]\n",
            " [ 0  0  0  0  0  0  2  4  0]\n",
            " [ 0  0  0  0  0  0  0  1  9]]\n",
            "\n",
            "---------------------------------------------------------------------------\n",
            "Ядро: sigmoid, accuracy_score: 0.0000\n",
            "\n",
            "[[ 0  0  0  0  0  0  0  8  0]\n",
            " [ 0  0  0  0  0  0  0  8  0]\n",
            " [ 0  0  0  0  0  0  0 12  0]\n",
            " [ 0  2  0  0  0  0  0 10  0]\n",
            " [ 0 12  0  0  0  0  0  0  0]\n",
            " [ 0 14  0  0  0  0  0  0  0]\n",
            " [ 0 11  0  0  0  0  0  0  0]\n",
            " [ 0  6  0  0  0  0  0  0  0]\n",
            " [ 0 10  0  0  0  0  0  0  0]]\n",
            "\n",
            "---------------------------------------------------------------------------\n"
          ]
        }
      ]
    },
    {
      "cell_type": "code",
      "source": [
        "len(Y_test), len(Y_pred)"
      ],
      "metadata": {
        "colab": {
          "base_uri": "https://localhost:8080/"
        },
        "id": "7CgGyt3DX4-b",
        "outputId": "adb17667-f7dd-448e-bb40-3289a3e943ff"
      },
      "execution_count": 35,
      "outputs": [
        {
          "output_type": "execute_result",
          "data": {
            "text/plain": [
              "(93, 93)"
            ]
          },
          "metadata": {},
          "execution_count": 35
        }
      ]
    },
    {
      "cell_type": "markdown",
      "source": [
        "7. (1 балл) Обучите модель классификации Перцептрон. Рассчитайте метрики accuracy и выведите таблицу классификации.\n"
      ],
      "metadata": {
        "id": "d3-0I6H0X7RY"
      }
    },
    {
      "cell_type": "code",
      "source": [
        "from sklearn.linear_model import Perceptron"
      ],
      "metadata": {
        "id": "ED8UcG6XX-Bt"
      },
      "execution_count": 36,
      "outputs": []
    },
    {
      "cell_type": "code",
      "source": [
        "# Создание и обучение модели перцептрона\n",
        "perceptron_model = Perceptron(random_state=42)\n",
        "perceptron_model.fit(X_train, Y_train)\n",
        "\n",
        "# Предсказание на тестовой выборке\n",
        "Y_perceptron_pred = perceptron_model.predict(X_test)\n",
        "\n",
        "# Оценка модели\n",
        "perceptron_accuracy = pd.Series(accuracy_score(Y_test, Y_perceptron_pred))\n",
        "perceptron_conf_matrix = confusion_matrix(Y_test, Y_perceptron_pred)\n",
        "perceptron_classification_rep = classification_report(Y_test, Y_perceptron_pred)\n",
        "\n",
        "\n",
        "print(f'Accuracy: {perceptron_accuracy}\\n')\n",
        "print(f'Confusion Matrix:\\n{perceptron_conf_matrix}\\n')\n",
        "print(f'Classification Report:\\n{perceptron_classification_rep}\\n')\n"
      ],
      "metadata": {
        "colab": {
          "base_uri": "https://localhost:8080/"
        },
        "id": "ZayyNhdhYBCD",
        "outputId": "a24c4a85-6db5-49e6-964e-2309cc344658"
      },
      "execution_count": 37,
      "outputs": [
        {
          "output_type": "stream",
          "name": "stdout",
          "text": [
            "Accuracy: 0    0.225806\n",
            "dtype: float64\n",
            "\n",
            "Confusion Matrix:\n",
            "[[ 0  8  0  0  0  0  0  0  0]\n",
            " [ 0  8  0  0  0  0  0  0  0]\n",
            " [ 0 12  0  0  0  0  0  0  0]\n",
            " [ 0 12  0  0  0  0  0  0  0]\n",
            " [ 0  0  0  0  0  0  0  0 12]\n",
            " [ 0  0  0  0  0  0  1  0 13]\n",
            " [ 0  0  0  0  0  0  0  7  4]\n",
            " [ 0  0  0  0  0  0  0  6  0]\n",
            " [ 0  0  0  0  0  0  0  3  7]]\n",
            "\n",
            "Classification Report:\n",
            "              precision    recall  f1-score   support\n",
            "\n",
            "          76       0.00      0.00      0.00         8\n",
            "          77       0.20      1.00      0.33         8\n",
            "          78       0.00      0.00      0.00        12\n",
            "          79       0.00      0.00      0.00        12\n",
            "          80       0.00      0.00      0.00        12\n",
            "          81       0.00      0.00      0.00        14\n",
            "          82       0.00      0.00      0.00        11\n",
            "          83       0.38      1.00      0.55         6\n",
            "          84       0.19      0.70      0.30        10\n",
            "\n",
            "    accuracy                           0.23        93\n",
            "   macro avg       0.09      0.30      0.13        93\n",
            "weighted avg       0.06      0.23      0.10        93\n",
            "\n",
            "\n"
          ]
        },
        {
          "output_type": "stream",
          "name": "stderr",
          "text": [
            "/usr/local/lib/python3.10/dist-packages/sklearn/metrics/_classification.py:1344: UndefinedMetricWarning: Precision and F-score are ill-defined and being set to 0.0 in labels with no predicted samples. Use `zero_division` parameter to control this behavior.\n",
            "  _warn_prf(average, modifier, msg_start, len(result))\n",
            "/usr/local/lib/python3.10/dist-packages/sklearn/metrics/_classification.py:1344: UndefinedMetricWarning: Precision and F-score are ill-defined and being set to 0.0 in labels with no predicted samples. Use `zero_division` parameter to control this behavior.\n",
            "  _warn_prf(average, modifier, msg_start, len(result))\n",
            "/usr/local/lib/python3.10/dist-packages/sklearn/metrics/_classification.py:1344: UndefinedMetricWarning: Precision and F-score are ill-defined and being set to 0.0 in labels with no predicted samples. Use `zero_division` parameter to control this behavior.\n",
            "  _warn_prf(average, modifier, msg_start, len(result))\n"
          ]
        }
      ]
    }
  ]
}